{
 "cells": [
  {
   "cell_type": "code",
   "execution_count": 2,
   "metadata": {},
   "outputs": [
    {
     "name": "stdout",
     "output_type": "stream",
     "text": [
      "Extracting /tmp/tensorflow/mnist/input_data\\train-images-idx3-ubyte.gz\n",
      "Extracting /tmp/tensorflow/mnist/input_data\\train-labels-idx1-ubyte.gz\n",
      "Extracting /tmp/tensorflow/mnist/input_data\\t10k-images-idx3-ubyte.gz\n",
      "Extracting /tmp/tensorflow/mnist/input_data\\t10k-labels-idx1-ubyte.gz\n",
      "(55000, 784) (10000, 784)\n"
     ]
    }
   ],
   "source": [
    "from tensorflow.examples.tutorials.mnist import input_data\n",
    "data_dir = '/tmp/tensorflow/mnist/input_data'\n",
    "# Import data\n",
    "mnist = input_data.read_data_sets(data_dir, one_hot=True)\n",
    "print(mnist.train.images.shape, mnist.test.images.shape)"
   ]
  },
  {
   "cell_type": "code",
   "execution_count": 3,
   "metadata": {},
   "outputs": [
    {
     "name": "stdout",
     "output_type": "stream",
     "text": [
      "(10000, 784) (10000, 784)\n"
     ]
    }
   ],
   "source": [
    "x_train, x_val = mnist.train.images[:10000], mnist.test.images\n",
    "print(x_train.shape, x_val.shape)"
   ]
  },
  {
   "cell_type": "code",
   "execution_count": 34,
   "metadata": {
    "scrolled": true
   },
   "outputs": [
    {
     "name": "stdout",
     "output_type": "stream",
     "text": [
      "pca_dim = 80, x_train_mse = 0.007264833897352219, x_val_mse = 0.007073782850056887\n"
     ]
    }
   ],
   "source": [
    "from sklearn.decomposition import PCA\n",
    "import numpy as np\n",
    "pca_dim = 80\n",
    "pca = PCA(n_components=pca_dim)\n",
    "pca.fit(x_train)\n",
    "x_pca = pca.fit_transform(x_train)\n",
    "x_pca_inv = pca.inverse_transform(x_pca)\n",
    "x_train_mse = np.mean((x_train - x_pca_inv)**2)\n",
    "x_pca_val = pca.fit_transform(x_val)\n",
    "x_pca_val_inv = pca.inverse_transform(x_pca_val)\n",
    "x_val_mse = np.mean((x_val - x_pca_val_inv)**2)\n",
    "print(\"pca_dim = {}, x_train_mse = {}, x_val_mse = {}\".format(pca_dim, x_train_mse, x_val_mse))"
   ]
  },
  {
   "cell_type": "code",
   "execution_count": 35,
   "metadata": {},
   "outputs": [
    {
     "data": {
      "image/png": "[encoded data removed]",
      "text/plain": [
       "<Figure size 1152x1152 with 5 Axes>"
      ]
     },
     "metadata": {},
     "output_type": "display_data"
    },
    {
     "name": "stdout",
     "output_type": "stream",
     "text": [
      "original mnist validation data\n"
     ]
    }
   ],
   "source": [
    "import matplotlib.pyplot as plt\n",
    "fig_num = 5\n",
    "plt.subplots(figsize=(16,16))\n",
    "for i in range(fig_num):\n",
    "    plt.subplot(1,fig_num,i+1)\n",
    "    plt.imshow(x_val[i].reshape(28,28), cmap='Greys_r')\n",
    "    plt.axis('off')\n",
    "plt.show()\n",
    "print(\"original mnist validation data\")"
   ]
  },
  {
   "cell_type": "code",
   "execution_count": 36,
   "metadata": {},
   "outputs": [
    {
     "data": {
      "image/png": "[encoded data removed]",
      "text/plain": [
       "<Figure size 1152x1152 with 5 Axes>"
      ]
     },
     "metadata": {},
     "output_type": "display_data"
    },
    {
     "name": "stdout",
     "output_type": "stream",
     "text": [
      "pca reconstruct mnist validation data\n"
     ]
    }
   ],
   "source": [
    "x_pca_val_inv_clip = np.clip(x_pca_val_inv,0,1)\n",
    "plt.subplots(figsize=(16,16))\n",
    "for i in range(fig_num):\n",
    "    plt.subplot(1,fig_num,i+1)\n",
    "    plt.imshow(x_pca_val_inv_clip[i].reshape(28,28), cmap='Greys_r')\n",
    "    plt.axis('off')\n",
    "plt.show()\n",
    "print(\"pca reconstruct mnist validation data\")"
   ]
  }
 ],
 "metadata": {
  "kernelspec": {
   "display_name": "Python [conda env:tensorflow]",
   "language": "python",
   "name": "conda-env-tensorflow-py"
  },
  "language_info": {
   "codemirror_mode": {
    "name": "ipython",
    "version": 3
   },
   "file_extension": ".py",
   "mimetype": "text/x-python",
   "name": "python",
   "nbconvert_exporter": "python",
   "pygments_lexer": "ipython3",
   "version": "3.5.5"
  }
 },
 "nbformat": 4,
 "nbformat_minor": 2
}
