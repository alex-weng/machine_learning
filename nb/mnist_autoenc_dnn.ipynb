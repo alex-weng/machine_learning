{
 "cells": [
  {
   "cell_type": "code",
   "execution_count": 3,
   "metadata": {},
   "outputs": [
    {
     "name": "stdout",
     "output_type": "stream",
     "text": [
      "Extracting /tmp/tensorflow/mnist/input_data\\train-images-idx3-ubyte.gz\n",
      "Extracting /tmp/tensorflow/mnist/input_data\\train-labels-idx1-ubyte.gz\n",
      "Extracting /tmp/tensorflow/mnist/input_data\\t10k-images-idx3-ubyte.gz\n",
      "Extracting /tmp/tensorflow/mnist/input_data\\t10k-labels-idx1-ubyte.gz\n",
      "x_train.shape = (55000, 784), x_val.shape = (10000, 784)\n"
     ]
    }
   ],
   "source": [
    "from tensorflow.examples.tutorials.mnist import input_data\n",
    "data_dir = '/tmp/tensorflow/mnist/input_data'\n",
    "# Import data\n",
    "mnist = input_data.read_data_sets(data_dir, one_hot=True)\n",
    "x_train, x_val = mnist.train.images, mnist.test.images\n",
    "print(\"x_train.shape = {}, x_val.shape = {}\".format(x_train.shape, x_val.shape))"
   ]
  },
  {
   "cell_type": "code",
   "execution_count": 4,
   "metadata": {},
   "outputs": [
    {
     "name": "stdout",
     "output_type": "stream",
     "text": [
      "total_parameters = 631584\n"
     ]
    }
   ],
   "source": [
    "import tensorflow as tf\n",
    "def weight_variable(shape, name):\n",
    "    return tf.Variable(tf.truncated_normal(shape = shape, stddev = 0.1), name)\n",
    "def bias_variable(shape, name):\n",
    "    return tf.Variable(tf.constant(0.1, shape = shape), name)\n",
    "\n",
    "hid_1 = 320\n",
    "hid_2 = 160 \n",
    "code_dim = 80\n",
    "\n",
    "x = tf.placeholder(tf.float32, shape = [None, 784])\n",
    "e_W_1 = weight_variable([784, hid_1], \"e_W_1\")\n",
    "e_b_1 = bias_variable([hid_1], \"e_b_1\")\n",
    "e_layer1 = tf.nn.relu(tf.matmul(x, e_W_1) + e_b_1)\n",
    "e_W_2 = weight_variable([hid_1, hid_2], \"e_W_2\")\n",
    "e_b_2 = bias_variable([hid_2], \"e_b_2\")\n",
    "e_layer2 = tf.nn.relu(tf.matmul(e_layer1, e_W_2) + e_b_2)\n",
    "e_W_3 = weight_variable([hid_2, code_dim], \"e_W_3\")\n",
    "e_b_3 = bias_variable([code_dim], \"e_b_3\")\n",
    "\n",
    "code_layer = tf.matmul(e_layer2, e_W_3) + e_b_3\n",
    "\n",
    "d_W_1 = weight_variable([code_dim, hid_2], \"d_W_1\")\n",
    "d_b_1 = bias_variable([hid_2], \"d_b_1\")\n",
    "d_layer1 = tf.nn.relu(tf.matmul(code_layer, d_W_1) + d_b_1)\n",
    "d_W_2 = weight_variable([hid_2, hid_1], \"d_W_2\")\n",
    "d_b_2 = bias_variable([hid_1], \"d_b_2\")\n",
    "d_layer2 = tf.nn.relu(tf.matmul(d_layer1, d_W_2) + d_b_2)\n",
    "d_W_3 = weight_variable([hid_1, 784], \"d_W_3\")\n",
    "d_b_3 = bias_variable([784], \"d_b_3\")\n",
    "output_layer = tf.nn.sigmoid(tf.matmul(d_layer2, d_W_3) + d_b_3)\n",
    "\n",
    "loss = tf.reduce_mean(tf.pow(output_layer - x, 2))\n",
    "l_rate = 1e-3\n",
    "optimizer = tf.train.AdamOptimizer(l_rate).minimize(loss)\n",
    "\n",
    "total_parameters = 0\n",
    "for variable in tf.trainable_variables():\n",
    "    # shape is an array of tf.Dimension\n",
    "    shape = variable.get_shape()\n",
    "#     print(shape)\n",
    "#     print(len(shape))\n",
    "    variable_parameters = 1\n",
    "    for dim in shape:\n",
    "#         print(dim)\n",
    "        variable_parameters *= dim.value\n",
    "#     print(variable_parameters)\n",
    "    total_parameters += variable_parameters\n",
    "print(\"total_parameters = {}\".format(total_parameters))"
   ]
  },
  {
   "cell_type": "code",
   "execution_count": 7,
   "metadata": {
    "scrolled": true
   },
   "outputs": [
    {
     "name": "stdout",
     "output_type": "stream",
     "text": [
      "step = 0, val_loss = 0.278281\n",
      "step = 5000, val_loss = 0.00499616\n",
      "step = 10000, val_loss = 0.00376916\n",
      "step = 15000, val_loss = 0.0032774\n",
      "step = 20000, val_loss = 0.00304279\n",
      "step = 25000, val_loss = 0.00273234\n",
      "step = 30000, val_loss = 0.00266098\n",
      "step = 35000, val_loss = 0.00265758\n",
      "step = 40000, val_loss = 0.00254653\n",
      "step = 45000, val_loss = 0.00248939\n",
      "step = 50000, val_loss = 0.00258257\n",
      "step = 55000, val_loss = 0.00234895\n",
      "step = 60000, val_loss = 0.00238821\n",
      "step = 65000, val_loss = 0.00236267\n",
      "step = 70000, val_loss = 0.00249815\n",
      "step = 75000, val_loss = 0.00244835\n",
      "step = 80000, val_loss = 0.0023495\n",
      "step = 85000, val_loss = 0.00225198\n",
      "step = 90000, val_loss = 0.00234263\n",
      "step = 95000, val_loss = 0.00228195\n",
      "final loss train 0.00211032\n",
      "final loss val 0.00230398\n"
     ]
    }
   ],
   "source": [
    "init_op = tf.global_variables_initializer()\n",
    "sess = tf.InteractiveSession()\n",
    "sess.run(init_op)\n",
    "for i in range(100000):\n",
    "    batch = mnist.train.next_batch(50)\n",
    "    if i%5000 == 0:\n",
    "        print(\"step = %d, val_loss = %g\"%(i, loss.eval(feed_dict={x: mnist.test.images})))\n",
    "    optimizer.run(feed_dict={x: batch[0]})\n",
    "\n",
    "print(\"final loss train %g\" % loss.eval(feed_dict={x: mnist.train.images}))\n",
    "print(\"final loss val %g\" % loss.eval(feed_dict={x: mnist.test.images}))"
   ]
  },
  {
   "cell_type": "code",
   "execution_count": 9,
   "metadata": {},
   "outputs": [
    {
     "data": {
      "image/png": "[encoded data removed]",
      "text/plain": [
       "<Figure size 1152x1152 with 5 Axes>"
      ]
     },
     "metadata": {},
     "output_type": "display_data"
    },
    {
     "name": "stdout",
     "output_type": "stream",
     "text": [
      "original mnist validation data\n"
     ]
    }
   ],
   "source": [
    "import matplotlib.pyplot as plt\n",
    "fig_num = 5\n",
    "plt.subplots(figsize=(16,16))\n",
    "for i in range(fig_num):\n",
    "    plt.subplot(1,fig_num,i+1)\n",
    "    plt.imshow(x_val[i].reshape(28,28), cmap='Greys_r')\n",
    "    plt.axis('off')\n",
    "plt.show()\n",
    "print(\"original mnist validation data\")"
   ]
  },
  {
   "cell_type": "code",
   "execution_count": 11,
   "metadata": {},
   "outputs": [
    {
     "data": {
      "image/png": "[encoded data removed]",
      "text/plain": [
       "<Figure size 1152x1152 with 5 Axes>"
      ]
     },
     "metadata": {},
     "output_type": "display_data"
    },
    {
     "name": "stdout",
     "output_type": "stream",
     "text": [
      "pca reconstruct mnist validation data\n"
     ]
    }
   ],
   "source": [
    "import numpy as np\n",
    "output_dec = output_layer.eval(feed_dict = {x: mnist.test.images})\n",
    "output_dec_clip = np.clip(output_dec,0,1)\n",
    "plt.subplots(figsize=(16,16))\n",
    "for i in range(fig_num):\n",
    "    plt.subplot(1,fig_num,i+1)\n",
    "    plt.imshow(output_dec_clip[i].reshape(28,28), cmap='Greys_r')\n",
    "    plt.axis('off')\n",
    "plt.show()\n",
    "print(\"pca reconstruct mnist validation data\")"
   ]
  }
 ],
 "metadata": {
  "kernelspec": {
   "display_name": "Python [conda env:tensorflow]",
   "language": "python",
   "name": "conda-env-tensorflow-py"
  },
  "language_info": {
   "codemirror_mode": {
    "name": "ipython",
    "version": 3
   },
   "file_extension": ".py",
   "mimetype": "text/x-python",
   "name": "python",
   "nbconvert_exporter": "python",
   "pygments_lexer": "ipython3",
   "version": "3.5.5"
  }
 },
 "nbformat": 4,
 "nbformat_minor": 2
}
