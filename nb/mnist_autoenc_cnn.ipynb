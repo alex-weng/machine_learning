{
 "cells": [
  {
   "cell_type": "code",
   "execution_count": 2,
   "metadata": {},
   "outputs": [
    {
     "name": "stdout",
     "output_type": "stream",
     "text": [
      "Extracting /tmp/tensorflow/mnist/input_data\\train-images-idx3-ubyte.gz\n",
      "Extracting /tmp/tensorflow/mnist/input_data\\train-labels-idx1-ubyte.gz\n",
      "Extracting /tmp/tensorflow/mnist/input_data\\t10k-images-idx3-ubyte.gz\n",
      "Extracting /tmp/tensorflow/mnist/input_data\\t10k-labels-idx1-ubyte.gz\n",
      "x_train.shape = (55000, 784), x_val.shape = (10000, 784)\n"
     ]
    }
   ],
   "source": [
    "from tensorflow.examples.tutorials.mnist import input_data\n",
    "data_dir = '/tmp/tensorflow/mnist/input_data'\n",
    "# Import data\n",
    "mnist = input_data.read_data_sets(data_dir, one_hot=True)\n",
    "x_train, x_val = mnist.train.images, mnist.test.images\n",
    "print(\"x_train.shape = {}, x_val.shape = {}\".format(x_train.shape, x_val.shape))"
   ]
  },
  {
   "cell_type": "code",
   "execution_count": 24,
   "metadata": {},
   "outputs": [
    {
     "name": "stdout",
     "output_type": "stream",
     "text": [
      "code layer shape : (?, 80)\n",
      "reconstruct layer shape : (?, 28, 28, 1)\n"
     ]
    }
   ],
   "source": [
    "import tensorflow as tf\n",
    "def weight_variable(shape, name):\n",
    "    return tf.Variable(tf.truncated_normal(shape = shape, stddev = 0.1), name)\n",
    "\n",
    "def bias_variable(shape, name):\n",
    "    return tf.Variable(tf.constant(0.1, shape = shape), name)\n",
    "\n",
    "def conv2d(x, W):\n",
    "    return tf.nn.conv2d(x, W, strides=[1, 2, 2, 1], padding = 'SAME')\n",
    "\n",
    "def deconv2d(x, W, output_shape):\n",
    "    return tf.nn.conv2d_transpose(x, W, output_shape, strides = [1, 2, 2, 1], padding = 'SAME')\n",
    "\n",
    "def weight_variable_2(shape):\n",
    "    initial = tf.truncated_normal(shape, stddev=0.1)\n",
    "    return tf.Variable(initial)\n",
    "\n",
    "def bias_variable_2(shape):\n",
    "    initial = tf.constant(0.1, shape=shape)\n",
    "    return tf.Variable(initial)\n",
    "\n",
    "def fc_layer(prev, input_size, output_size):\n",
    "    W = weight_variable_2([input_size, output_size])\n",
    "    b = bias_variable_2([output_size])\n",
    "    return tf.matmul(prev, W) + b\n",
    "\n",
    "code_dim = 80\n",
    "\n",
    "tf.reset_default_graph()\n",
    "x = tf.placeholder(tf.float32, shape = [None, 784])\n",
    "x_origin = tf.reshape(x, [-1, 28, 28, 1])\n",
    "\n",
    "W_e_conv1 = weight_variable([5, 5, 1, 16], \"w_e_conv1\")\n",
    "b_e_conv1 = bias_variable([16], \"b_e_conv1\")\n",
    "h_e_conv1 = tf.nn.relu(tf.add(conv2d(x_origin, W_e_conv1), b_e_conv1))\n",
    "\n",
    "W_e_conv2 = weight_variable([5, 5, 16, 32], \"w_e_conv2\")\n",
    "b_e_conv2 = bias_variable([32], \"b_e_conv2\")\n",
    "h_e_conv2 = tf.nn.relu(tf.add(conv2d(h_e_conv1, W_e_conv2), b_e_conv2))\n",
    "\n",
    "h_pool2_flat = tf.reshape(h_e_conv2, [-1, 7*7*32])\n",
    "l1 = tf.nn.relu(fc_layer(h_pool2_flat, 7*7*32, 400))\n",
    "l2 = fc_layer(l1, 400, code_dim)\n",
    "\n",
    "code_layer = l2\n",
    "print(\"code layer shape : %s\" % l2.get_shape())\n",
    "\n",
    "l3 = tf.nn.relu(fc_layer(l2, code_dim, 400))\n",
    "l4 = tf.nn.relu(fc_layer(l3, 400, 7*7*32))\n",
    "l4_re = tf.reshape(l4, [-1, 7, 7, 32])\n",
    "\n",
    "W_d_conv1 = weight_variable([5, 5, 16, 32], \"w_d_conv1\")\n",
    "b_d_conv1 = bias_variable([1], \"b_d_conv1\") \n",
    "output_shape_d_conv1 = tf.stack([tf.shape(x)[0], 14, 14, 16]) #(batch_size,14,14,16)\n",
    "h_d_conv1 = tf.nn.relu(deconv2d(l4_re, W_d_conv1, output_shape_d_conv1))\n",
    "# (?, 7, 7, 32), (5, 5, 16, 32), #(batch_size,14,14,16)\n",
    "\n",
    "W_d_conv2 = weight_variable([5, 5, 1, 16], \"w_d_conv2\")\n",
    "b_d_conv2 = bias_variable([16], \"b_d_conv2\")\n",
    "output_shape_d_conv2 = tf.stack([tf.shape(x)[0], 28, 28, 1])\n",
    "h_d_conv2 = tf.nn.sigmoid(deconv2d(h_d_conv1, W_d_conv2, output_shape_d_conv2))\n",
    "\n",
    "x_reconstruct = h_d_conv2\n",
    "print(\"reconstruct layer shape : %s\" % x_reconstruct.get_shape())\n"
   ]
  },
  {
   "cell_type": "code",
   "execution_count": 32,
   "metadata": {},
   "outputs": [
    {
     "name": "stdout",
     "output_type": "stream",
     "text": [
      "total_parameters = 1347313\n"
     ]
    }
   ],
   "source": [
    "loss = tf.reduce_mean(tf.pow(x_reconstruct - x_origin, 2))\n",
    "l_rate = 1e-3\n",
    "optimizer = tf.train.AdamOptimizer(l_rate).minimize(loss)\n",
    "\n",
    "total_parameters = 0\n",
    "for variable in tf.trainable_variables():\n",
    "    # shape is an array of tf.Dimension\n",
    "    shape = variable.get_shape()\n",
    "#     print(shape)\n",
    "#     print(len(shape))\n",
    "    variable_parameters = 1\n",
    "    for dim in shape:\n",
    "#         print(dim)\n",
    "        variable_parameters *= dim.value\n",
    "#     print(variable_parameters)\n",
    "    total_parameters += variable_parameters\n",
    "print(\"total_parameters = {}\".format(total_parameters))"
   ]
  },
  {
   "cell_type": "code",
   "execution_count": 37,
   "metadata": {},
   "outputs": [
    {
     "name": "stderr",
     "output_type": "stream",
     "text": [
      "C:\\Users\\USER\\Anaconda3\\envs\\tensorflow\\lib\\site-packages\\tensorflow\\python\\client\\session.py:1714: UserWarning: An interactive session is already active. This can cause out-of-memory errors in some cases. You must explicitly call `InteractiveSession.close()` to release resources held by the other session(s).\n",
      "  warnings.warn('An interactive session is already active. This can '\n"
     ]
    },
    {
     "name": "stdout",
     "output_type": "stream",
     "text": [
      "step = 0, val_loss = 0.285457\n",
      "step = 2000, val_loss = 0.00465252\n",
      "step = 4000, val_loss = 0.00335003\n",
      "step = 6000, val_loss = 0.00292179\n",
      "step = 8000, val_loss = 0.0024305\n",
      "step = 10000, val_loss = 0.00221568\n",
      "step = 12000, val_loss = 0.00215442\n",
      "step = 14000, val_loss = 0.00206829\n",
      "step = 16000, val_loss = 0.00189123\n",
      "step = 18000, val_loss = 0.00188551\n",
      "step = 20000, val_loss = 0.00179395\n",
      "step = 22000, val_loss = 0.00174556\n",
      "step = 24000, val_loss = 0.00178871\n",
      "step = 26000, val_loss = 0.00171858\n",
      "step = 28000, val_loss = 0.00167248\n",
      "step = 30000, val_loss = 0.0016522\n",
      "step = 32000, val_loss = 0.00160544\n",
      "step = 34000, val_loss = 0.00159874\n",
      "step = 36000, val_loss = 0.00162819\n",
      "step = 38000, val_loss = 0.00162092\n",
      "step = 40000, val_loss = 0.00155151\n",
      "step = 42000, val_loss = 0.00173392\n",
      "step = 44000, val_loss = 0.00156586\n",
      "step = 46000, val_loss = 0.00151439\n",
      "step = 48000, val_loss = 0.00156541\n",
      "final loss val 0.0016292\n"
     ]
    }
   ],
   "source": [
    "init_op = tf.global_variables_initializer()\n",
    "sess = tf.InteractiveSession()\n",
    "sess.run(init_op)\n",
    "for i in range(50000):\n",
    "    batch = mnist.train.next_batch(50)\n",
    "    if i%2000 == 0:\n",
    "        print(\"step = %d, val_loss = %g\"%(i, loss.eval(feed_dict={x: mnist.test.images})))\n",
    "    optimizer.run(feed_dict={x: batch[0]})\n",
    "\n",
    "print(\"final loss val %g\" % loss.eval(feed_dict={x: mnist.test.images}))"
   ]
  },
  {
   "cell_type": "code",
   "execution_count": 40,
   "metadata": {},
   "outputs": [
    {
     "data": {
      "image/png": "[encoded data removed]",
      "text/plain": [
       "<Figure size 1152x1152 with 5 Axes>"
      ]
     },
     "metadata": {},
     "output_type": "display_data"
    },
    {
     "name": "stdout",
     "output_type": "stream",
     "text": [
      "original mnist validation data\n"
     ]
    }
   ],
   "source": [
    "import matplotlib.pyplot as plt\n",
    "fig_num = 5\n",
    "plt.subplots(figsize=(16,16))\n",
    "for i in range(fig_num):\n",
    "    plt.subplot(1,fig_num,i+1)\n",
    "    plt.imshow(x_val[i].reshape(28,28), cmap='Greys_r')\n",
    "    plt.axis('off')\n",
    "plt.show()\n",
    "print(\"original mnist validation data\")"
   ]
  },
  {
   "cell_type": "code",
   "execution_count": 41,
   "metadata": {},
   "outputs": [
    {
     "data": {
      "image/png": "[encoded data removed]",
      "text/plain": [
       "<Figure size 1152x1152 with 5 Axes>"
      ]
     },
     "metadata": {},
     "output_type": "display_data"
    },
    {
     "name": "stdout",
     "output_type": "stream",
     "text": [
      "cnn reconstruct mnist validation data\n"
     ]
    }
   ],
   "source": [
    "import numpy as np\n",
    "output_dec = x_reconstruct.eval(feed_dict = {x: mnist.test.images})\n",
    "output_dec_clip = np.clip(output_dec,0,1)\n",
    "plt.subplots(figsize=(16,16))\n",
    "for i in range(fig_num):\n",
    "    plt.subplot(1,fig_num,i+1)\n",
    "    plt.imshow(output_dec_clip[i].reshape(28,28), cmap='Greys_r')\n",
    "    plt.axis('off')\n",
    "plt.show()\n",
    "print(\"cnn reconstruct mnist validation data\")"
   ]
  }
 ],
 "metadata": {
  "kernelspec": {
   "display_name": "Python [conda env:tensorflow]",
   "language": "python",
   "name": "conda-env-tensorflow-py"
  },
  "language_info": {
   "codemirror_mode": {
    "name": "ipython",
    "version": 3
   },
   "file_extension": ".py",
   "mimetype": "text/x-python",
   "name": "python",
   "nbconvert_exporter": "python",
   "pygments_lexer": "ipython3",
   "version": "3.5.5"
  }
 },
 "nbformat": 4,
 "nbformat_minor": 2
}
